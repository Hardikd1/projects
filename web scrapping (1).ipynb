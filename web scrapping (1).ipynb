{
 "cells": [
  {
   "cell_type": "code",
   "execution_count": 74,
   "id": "26717a92-131e-438f-a357-5d124d48c95a",
   "metadata": {},
   "outputs": [],
   "source": [
    "from flask import Flask, render_template, request,jsonify\n",
    "from flask_cors import CORS,cross_origin\n",
    "import requests\n",
    "from bs4 import BeautifulSoup as bs\n",
    "from urllib.request import urlopen as uReq"
   ]
  },
  {
   "cell_type": "code",
   "execution_count": 3,
   "id": "65e079c0-48ba-4ad0-9700-62445b614da0",
   "metadata": {},
   "outputs": [
    {
     "name": "stdout",
     "output_type": "stream",
     "text": [
      "Collecting flask-cors\n",
      "  Downloading Flask_Cors-3.0.10-py2.py3-none-any.whl (14 kB)\n",
      "Requirement already satisfied: Six in /opt/conda/lib/python3.10/site-packages (from flask-cors) (1.16.0)\n",
      "Collecting Flask>=0.9\n",
      "  Downloading Flask-2.2.3-py3-none-any.whl (101 kB)\n",
      "\u001b[2K     \u001b[90m━━━━━━━━━━━━━━━━━━━━━━━━━━━━━━━━━━━━━━━\u001b[0m \u001b[32m101.8/101.8 kB\u001b[0m \u001b[31m3.0 MB/s\u001b[0m eta \u001b[36m0:00:00\u001b[0m\n",
      "\u001b[?25hRequirement already satisfied: click>=8.0 in /opt/conda/lib/python3.10/site-packages (from Flask>=0.9->flask-cors) (8.1.3)\n",
      "Requirement already satisfied: Jinja2>=3.0 in /opt/conda/lib/python3.10/site-packages (from Flask>=0.9->flask-cors) (3.1.2)\n",
      "Collecting itsdangerous>=2.0\n",
      "  Downloading itsdangerous-2.1.2-py3-none-any.whl (15 kB)\n",
      "Collecting Werkzeug>=2.2.2\n",
      "  Downloading Werkzeug-2.2.3-py3-none-any.whl (233 kB)\n",
      "\u001b[2K     \u001b[90m━━━━━━━━━━━━━━━━━━━━━━━━━━━━━━━━━━━━━━━\u001b[0m \u001b[32m233.6/233.6 kB\u001b[0m \u001b[31m8.7 MB/s\u001b[0m eta \u001b[36m0:00:00\u001b[0m\n",
      "\u001b[?25hRequirement already satisfied: MarkupSafe>=2.0 in /opt/conda/lib/python3.10/site-packages (from Jinja2>=3.0->Flask>=0.9->flask-cors) (2.1.1)\n",
      "Installing collected packages: Werkzeug, itsdangerous, Flask, flask-cors\n",
      "Successfully installed Flask-2.2.3 Werkzeug-2.2.3 flask-cors-3.0.10 itsdangerous-2.1.2\n",
      "Requirement already satisfied: flask in /opt/conda/lib/python3.10/site-packages (2.2.3)\n",
      "Requirement already satisfied: click>=8.0 in /opt/conda/lib/python3.10/site-packages (from flask) (8.1.3)\n",
      "Requirement already satisfied: itsdangerous>=2.0 in /opt/conda/lib/python3.10/site-packages (from flask) (2.1.2)\n",
      "Requirement already satisfied: Jinja2>=3.0 in /opt/conda/lib/python3.10/site-packages (from flask) (3.1.2)\n",
      "Requirement already satisfied: Werkzeug>=2.2.2 in /opt/conda/lib/python3.10/site-packages (from flask) (2.2.3)\n",
      "Requirement already satisfied: MarkupSafe>=2.0 in /opt/conda/lib/python3.10/site-packages (from Jinja2>=3.0->flask) (2.1.1)\n"
     ]
    }
   ],
   "source": [
    "!pip install flask-cors\n",
    "!pip install flask"
   ]
  },
  {
   "cell_type": "code",
   "execution_count": 5,
   "id": "3267d75b-9eb0-4d5a-a351-18e0b5002045",
   "metadata": {},
   "outputs": [],
   "source": [
    "searchstring = \"iphone11\""
   ]
  },
  {
   "cell_type": "code",
   "execution_count": 6,
   "id": "e48cb367-d5d8-4028-8c9d-117ba8641049",
   "metadata": {},
   "outputs": [],
   "source": [
    "flipkart_url = \"https://www.flipkart.com/search?q=\" + searchstring"
   ]
  },
  {
   "cell_type": "code",
   "execution_count": 7,
   "id": "68d97e12-32d1-48a9-9367-538ac11ff92d",
   "metadata": {},
   "outputs": [
    {
     "data": {
      "text/plain": [
       "'https://www.flipkart.com/search?q=iphone11'"
      ]
     },
     "execution_count": 7,
     "metadata": {},
     "output_type": "execute_result"
    }
   ],
   "source": [
    "flipkart_url"
   ]
  },
  {
   "cell_type": "code",
   "execution_count": 8,
   "id": "1ee025e6-1abb-40d4-9145-fde4aeda5f66",
   "metadata": {},
   "outputs": [],
   "source": [
    "uclient = uReq(flipkart_url)"
   ]
  },
  {
   "cell_type": "code",
   "execution_count": 9,
   "id": "d8a2b541-60da-4f91-8bc3-817f693fa2ee",
   "metadata": {},
   "outputs": [
    {
     "data": {
      "text/plain": [
       "<http.client.HTTPResponse at 0x7fc07c0ab0a0>"
      ]
     },
     "execution_count": 9,
     "metadata": {},
     "output_type": "execute_result"
    }
   ],
   "source": [
    "uclient"
   ]
  },
  {
   "cell_type": "code",
   "execution_count": 10,
   "id": "7861769c-d062-4952-a9d5-d36d18561deb",
   "metadata": {},
   "outputs": [],
   "source": [
    "flipkart_page =uclient.read()"
   ]
  },
  {
   "cell_type": "code",
   "execution_count": null,
   "id": "d23f04d7-a572-428b-b358-950cef2350c4",
   "metadata": {
    "tags": []
   },
   "outputs": [],
   "source": [
    "flipkart_page"
   ]
  },
  {
   "cell_type": "code",
   "execution_count": 12,
   "id": "a52173e1-7187-4eb9-82b7-227ce67fba05",
   "metadata": {},
   "outputs": [],
   "source": [
    "flipkart_html=bs(flipkart_page,\"html.parser\")"
   ]
  },
  {
   "cell_type": "code",
   "execution_count": null,
   "id": "754894df-8fa4-4d6e-a90e-aa8aa55dc060",
   "metadata": {
    "tags": []
   },
   "outputs": [],
   "source": [
    "flipkart_html"
   ]
  },
  {
   "cell_type": "code",
   "execution_count": 14,
   "id": "eddda40c-d351-4b09-a898-5647bda24a29",
   "metadata": {},
   "outputs": [
    {
     "data": {
      "text/plain": [
       "'https://www.flipkart.com/apple-iphone-11-white-64-gb/p/itmfc6a7091eb20b?pid=MOBFWQ6BVWVEH3XE&lid=LSTMOBFWQ6BVWVEH3XE9ADHVW&marketplace=FLIPKART&q=iphone11&store=tyy%2F4io&srno=s_1_1&otracker=search&iid=0ad0b490-d776-4291-9d6f-d219f4eb02ba.MOBFWQ6BVWVEH3XE.SEARCH&ssid=s1yuur815s0000001678530930112&qH=d6db477051465f9a'"
      ]
     },
     "execution_count": 14,
     "metadata": {},
     "output_type": "execute_result"
    }
   ],
   "source": [
    "\"https://www.flipkart.com/apple-iphone-11-white-64-gb/p/itmfc6a7091eb20b?pid=MOBFWQ6BVWVEH3XE&lid=LSTMOBFWQ6BVWVEH3XE9ADHVW&marketplace=FLIPKART&q=iphone11&store=tyy%2F4io&srno=s_1_1&otracker=search&iid=0ad0b490-d776-4291-9d6f-d219f4eb02ba.MOBFWQ6BVWVEH3XE.SEARCH&ssid=s1yuur815s0000001678530930112&qH=d6db477051465f9a\""
   ]
  },
  {
   "cell_type": "code",
   "execution_count": 15,
   "id": "77e24849-2e15-4a0b-9c3a-617a681fd488",
   "metadata": {},
   "outputs": [],
   "source": [
    "bigboxes = flipkart_html.find_all(\"div\",{\"class\":\"_2kHMtA\"})"
   ]
  },
  {
   "cell_type": "code",
   "execution_count": null,
   "id": "f5bd939d-3d9c-4a04-8481-b92d161bf823",
   "metadata": {
    "tags": []
   },
   "outputs": [],
   "source": [
    " bigboxes"
   ]
  },
  {
   "cell_type": "code",
   "execution_count": 41,
   "id": "905ff702-e131-4398-b36d-b7c2e098ad79",
   "metadata": {},
   "outputs": [
    {
     "data": {
      "text/plain": [
       "24"
      ]
     },
     "execution_count": 41,
     "metadata": {},
     "output_type": "execute_result"
    }
   ],
   "source": [
    "len(bigboxes)"
   ]
  },
  {
   "cell_type": "code",
   "execution_count": 58,
   "id": "d5fddd51-ff8c-4784-a00a-4f7ebcc75957",
   "metadata": {},
   "outputs": [],
   "source": [
    "box = bigboxes[1]"
   ]
  },
  {
   "cell_type": "code",
   "execution_count": 63,
   "id": "54a26aca-d8d5-4e48-9ff1-862bc91ad3ca",
   "metadata": {},
   "outputs": [
    {
     "data": {
      "text/plain": [
       "'https://www.flipkart.com/apple-iphone-11-white-128-gb/p/itme32df47ea6742?pid=MOBFWQ6B7KKRXDDS&amp;lid=LSTMOBFWQ6B7KKRXDDSULUZ0N&amp;marketplace=FLIPKART&amp;q=iphone11&amp;store=tyy%2F4io&amp;spotlightTagId=BestsellerId_tyy%2F4io&amp;srno=s_1_3&amp;otracker=search&amp;fm=organic&amp;iid=7204c552-f9fb-4f7d-982e-c0aa015ddde6.MOBFWQ6B7KKRXDDS.SEARCH&amp;ppt=None&amp;ppn=None&amp;ssid=6eod5tuowg0000001678615813872&amp;qH=d6db477051465f9a'"
      ]
     },
     "execution_count": 63,
     "metadata": {},
     "output_type": "execute_result"
    }
   ],
   "source": [
    "# creating a hyperlink for the phone\n",
    "\n",
    "\"https://www.flipkart.com/apple-iphone-11-white-128-gb/p/itme32df47ea6742?pid=MOBFWQ6B7KKRXDDS&amp;lid=LSTMOBFWQ6B7KKRXDDSULUZ0N&amp;marketplace=FLIPKART&amp;q=iphone11&amp;store=tyy%2F4io&amp;spotlightTagId=BestsellerId_tyy%2F4io&amp;srno=s_1_3&amp;otracker=search&amp;fm=organic&amp;iid=7204c552-f9fb-4f7d-982e-c0aa015ddde6.MOBFWQ6B7KKRXDDS.SEARCH&amp;ppt=None&amp;ppn=None&amp;ssid=6eod5tuowg0000001678615813872&amp;qH=d6db477051465f9a\""
   ]
  },
  {
   "cell_type": "code",
   "execution_count": 169,
   "id": "342d2749-babf-4a5c-8264-dfcfb5e5eb39",
   "metadata": {},
   "outputs": [],
   "source": [
    "# another method of creating href\n",
    "productlink = flipkart_url+box.a[\"href\"]"
   ]
  },
  {
   "cell_type": "code",
   "execution_count": 170,
   "id": "e42f2f34-4e12-433b-81d0-1a690488dc04",
   "metadata": {},
   "outputs": [
    {
     "data": {
      "text/plain": [
       "'https://www.flipkart.com/search?q=iphone11/apple-iphone-11-white-128-gb/p/itme32df47ea6742?pid=MOBFWQ6B7KKRXDDS&lid=LSTMOBFWQ6B7KKRXDDSULUZ0N&marketplace=FLIPKART&q=iphone11&store=tyy%2F4io&spotlightTagId=BestsellerId_tyy%2F4io&srno=s_1_3&otracker=search&fm=organic&iid=7204c552-f9fb-4f7d-982e-c0aa015ddde6.MOBFWQ6B7KKRXDDS.SEARCH&ppt=None&ppn=None&ssid=6eod5tuowg0000001678615813872&qH=d6db477051465f9a'"
      ]
     },
     "execution_count": 170,
     "metadata": {},
     "output_type": "execute_result"
    }
   ],
   "source": [
    "productlink"
   ]
  },
  {
   "cell_type": "code",
   "execution_count": 171,
   "id": "03d50a51-a3ef-4fa1-9c67-c781b2026b30",
   "metadata": {},
   "outputs": [],
   "source": [
    "productreq = requests.get(productlink)"
   ]
  },
  {
   "cell_type": "code",
   "execution_count": 172,
   "id": "18bb34f9-2bfd-4ee7-a903-c3bb96f555f2",
   "metadata": {},
   "outputs": [
    {
     "data": {
      "text/plain": [
       "<Response [200]>"
      ]
     },
     "execution_count": 172,
     "metadata": {},
     "output_type": "execute_result"
    }
   ],
   "source": [
    "productreq"
   ]
  },
  {
   "cell_type": "code",
   "execution_count": 173,
   "id": "ceaf8cb1-9d83-4b6f-b601-09184197fd42",
   "metadata": {},
   "outputs": [],
   "source": [
    "#Genrate the text version of the prod dump\n",
    "# use beautiful soup for div \n",
    "#store this in product_html \n",
    "product_html=bs(productreq.text,\"html.parser\")"
   ]
  },
  {
   "cell_type": "code",
   "execution_count": 174,
   "id": "be04a3e0-f27e-4d00-97c7-5ad9cdbe7788",
   "metadata": {},
   "outputs": [],
   "source": [
    "#click on the entire row which you want to scrap\n",
    "comment_box = product_html.find_all(\"div\",{\"class\":\"col _2wzgFH\"})"
   ]
  },
  {
   "cell_type": "code",
   "execution_count": 175,
   "id": "0e51df67-3cb1-4161-a46c-657a75eef071",
   "metadata": {},
   "outputs": [
    {
     "data": {
      "text/plain": [
       "'5'"
      ]
     },
     "execution_count": 175,
     "metadata": {},
     "output_type": "execute_result"
    }
   ],
   "source": [
    "comment_box[1].div.div.text"
   ]
  },
  {
   "cell_type": "code",
   "execution_count": 176,
   "id": "05b5e496-e646-4dfe-a007-b2173ec771b8",
   "metadata": {},
   "outputs": [
    {
     "name": "stdout",
     "output_type": "stream",
     "text": [
      "5\n",
      "5\n",
      "5\n",
      "5\n",
      "5\n",
      "5\n",
      "5\n",
      "5\n",
      "5\n",
      "5\n"
     ]
    }
   ],
   "source": [
    "# get all the ratings through for loop\n",
    "\n",
    "for i in comment_box:\n",
    "    print(comment_box[1].div.div.text)"
   ]
  },
  {
   "cell_type": "code",
   "execution_count": 177,
   "id": "c3a24df9-204d-4ec7-ae82-c60251702941",
   "metadata": {},
   "outputs": [
    {
     "data": {
      "text/plain": [
       "'Really satisfied with the Product I received... It’s totally genuine and the packaging was also really good so if ur planning to buy just go for it.'"
      ]
     },
     "execution_count": 177,
     "metadata": {},
     "output_type": "execute_result"
    }
   ],
   "source": [
    "comment_box[0].find_all(\"div\",{\"class\":\"\"})[0].div.text"
   ]
  },
  {
   "cell_type": "code",
   "execution_count": 178,
   "id": "223a0b90-33f7-4680-80d8-bedaf0b916d2",
   "metadata": {},
   "outputs": [
    {
     "name": "stdout",
     "output_type": "stream",
     "text": [
      "Really satisfied with the Product I received... It’s totally genuine and the packaging was also really good so if ur planning to buy just go for it.\n",
      "\n",
      "\n",
      "Amazing phone with great cameras and better battery which gives you the best performance. I just love the camera .\n",
      "\n",
      "\n",
      "Great iPhone very snappy experience as apple kind. Upgraded from iPhone 7. Pros-Camera top class - Battery top performed -Chipset no need to say as apple kind -Security as you expect from apple - Display super bright industry leading colour   accuracy and super responsive -Build quality as expect from apple sturdy  premium durable beautiful stylish. -Os most stable os in smartphone industry Cons -No 5G-Display is not based on OLED technology -Charger headphones and 1 apple stic...\n",
      "\n",
      "\n",
      "I'm Really happy with the productDelivery was fast as well..it was a gift for my sister and she loved it so much.\n",
      "\n",
      "\n",
      "It's my first time to use iOS phone and I am loving my upgradation 😍😍 I love the color, I love the assebility of the phone....I need to learn more about its functionality, but as far as I have seen, it's quite easy and it has a lot of functions to work on, specially if you are a content writer or a blogger you get a lot of content creation platforms and they are really amazing. This phone not only for good quality photography but a lot of other task too.😍💯\n",
      "\n",
      "\n",
      "Previously I was using one plus 3t it was a great phone And then I decided to upgrade I am stuck between Samsung s10 plus or iPhone 11 I have seen the specs and everything were good except the display it’s somewhere between 720-1080 and it’s not even an amoled it’s an LCD display But I decided to go with iPhone because I have never used an IOS device I have Been an android user from the past 9 years I ordered IPhone 11 (128gb) product redMy experience after using 3 weeks 1. The delivery ...\n",
      "\n",
      "\n",
      "Value for money5 star rating Excellent cameraBattery backup full day in single charge.Tougher and water resistant design, glossy back.The screen has excellent brightness and contrast.Apple A13 Bionic is the fastest smartphone chip on the planet.Excellent battery life, fast charging support.Stereo speakers with great quality.\n",
      "\n",
      "\n",
      "What a camera .....just awesome ..you can feel this iPhone just awesome . Good for gaming also ...try pubg in hd it’s just wow\n",
      "\n",
      "\n",
      "I was using Iphone 6s and also Oneplus 6t. Both mobiles were perfectly alright in Photos, gaming, and smooth interface . My 6s mobile getting battery issue. thought upgrade to 11. Really like this mobile of its Internal storage (compare to 6s) , camera and its touch feeling. Its a worth buying mobile for me.\n",
      "\n",
      "\n",
      "Amazing Powerful and Durable Gadget.I’m am very happy with the camera picture quality, Amazing face id unlocked in dark room, Strong battery with perfect screen size as you can carry easily in pocket. This is my third iPhone. I shifted from android Samsung Note series to iPhone because of the strong build quality and peace of mind for next 3-4 years.Don’t think to much just go for it and I suggest you to go for minimum 128gb variant or more 256gb. I’ve attached my puppy pics and no fi...\n",
      "\n",
      "\n"
     ]
    }
   ],
   "source": [
    "# get all the comments through for loop\n",
    "\n",
    "for i in comment_box:\n",
    "    print(i.find_all(\"div\",{\"class\":\"\"})[0].div.text)\n",
    "    print(\"\\n\")"
   ]
  },
  {
   "cell_type": "code",
   "execution_count": 184,
   "id": "23e35001-5378-4873-8bc2-6aa8fc261d02",
   "metadata": {},
   "outputs": [
    {
     "data": {
      "text/plain": [
       "'Simply awesome'"
      ]
     },
     "execution_count": 184,
     "metadata": {},
     "output_type": "execute_result"
    }
   ],
   "source": [
    "comment_box[0].find_all(\"p\",{\"class\":\"_2-N8zT\"})[0].text"
   ]
  },
  {
   "cell_type": "code",
   "execution_count": 187,
   "id": "e35e23ee-bd78-4919-a27f-9e00379b5473",
   "metadata": {},
   "outputs": [
    {
     "name": "stdout",
     "output_type": "stream",
     "text": [
      "Simply awesome\n",
      "Perfect product!\n",
      "Best in the market!\n",
      "Value-for-money\n",
      "Highly recommended\n",
      "Worth every penny\n",
      "Perfect product!\n",
      "Highly recommended\n",
      "Pretty good\n",
      "Great product\n"
     ]
    }
   ],
   "source": [
    "#get all using for loop\n",
    "for i in comment_box:\n",
    "    print(i.find_all(\"p\",{\"class\":\"_2-N8zT\"})[0].text)"
   ]
  },
  {
   "cell_type": "code",
   "execution_count": 188,
   "id": "e4c81bc3-2292-403c-8a98-082ed9d01c71",
   "metadata": {},
   "outputs": [
    {
     "data": {
      "text/plain": [
       "'Flipkart Customer'"
      ]
     },
     "execution_count": 188,
     "metadata": {},
     "output_type": "execute_result"
    }
   ],
   "source": [
    "# getting the customer name\n",
    "comment_box[0].find_all(\"p\",{\"class\":\"_2sc7ZR _2V5EHH\"})[0].text"
   ]
  },
  {
   "cell_type": "code",
   "execution_count": 189,
   "id": "0798ba0b-e4a7-4325-b058-dfdb17f40d80",
   "metadata": {},
   "outputs": [
    {
     "name": "stdout",
     "output_type": "stream",
     "text": [
      "Flipkart Customer\n",
      "Flipkart Customer\n",
      "Manish Raghuvanshi\n",
      "George Haokip\n",
      "Jimly  Gogoi\n",
      "Vamshi  Chakrala \n",
      "Chirag Rajput\n",
      "Vishal Dubey\n",
      "vijay hegde\n",
      "Rahul Verma\n"
     ]
    }
   ],
   "source": [
    "# genrating all the customer names\n",
    "for i in comment_box: \n",
    "    print(i.find_all(\"p\",{\"class\":\"_2sc7ZR _2V5EHH\"})[0].text)"
   ]
  }
 ],
 "metadata": {
  "kernelspec": {
   "display_name": "Python 3 (ipykernel)",
   "language": "python",
   "name": "python3"
  },
  "language_info": {
   "codemirror_mode": {
    "name": "ipython",
    "version": 3
   },
   "file_extension": ".py",
   "mimetype": "text/x-python",
   "name": "python",
   "nbconvert_exporter": "python",
   "pygments_lexer": "ipython3",
   "version": "3.10.6"
  }
 },
 "nbformat": 4,
 "nbformat_minor": 5
}
